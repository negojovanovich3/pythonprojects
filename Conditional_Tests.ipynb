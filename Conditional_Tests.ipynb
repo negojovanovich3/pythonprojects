{
  "nbformat": 4,
  "nbformat_minor": 0,
  "metadata": {
    "colab": {
      "name": "Conditional Tests.ipynb",
      "provenance": []
    },
    "kernelspec": {
      "name": "python3",
      "display_name": "Python 3"
    },
    "language_info": {
      "name": "python"
    }
  },
  "cells": [
    {
      "cell_type": "code",
      "execution_count": 3,
      "metadata": {
        "colab": {
          "base_uri": "https://localhost:8080/"
        },
        "id": "ksAkKUyXOuZk",
        "outputId": "b056d689-7461-4e68-d9eb-2dac337493ec"
      },
      "outputs": [
        {
          "output_type": "stream",
          "name": "stdout",
          "text": [
            "DUCATI\n",
            "bmw\n",
            "yamaha\n",
            "honda\n"
          ]
        }
      ],
      "source": [
        "motorcycle = ['ducati', 'bmw', 'yamaha', 'honda']\n",
        "\n",
        "for bike in motorcycle:\n",
        "  if bike=='ducati':\n",
        "    print(bike.upper())\n",
        "  else:\n",
        "    print(bike.lower())\n",
        "    "
      ]
    },
    {
      "cell_type": "code",
      "source": [
        "readmit_days = 31\n",
        "if readmit_days < 30:\n",
        "  print(\"Patient readmitted within 30 days\")\n",
        "else:\n",
        "  print(\"patient was readmitted after 30 days\")"
      ],
      "metadata": {
        "colab": {
          "base_uri": "https://localhost:8080/"
        },
        "id": "RBiHh1DvP64F",
        "outputId": "81462e58-6c9b-4147-839c-9a0417de0ad6"
      },
      "execution_count": 15,
      "outputs": [
        {
          "output_type": "stream",
          "name": "stdout",
          "text": [
            "patient was readmitted after 30 days\n"
          ]
        }
      ]
    }
  ]
}